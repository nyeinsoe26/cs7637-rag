{
 "cells": [
  {
   "cell_type": "code",
   "execution_count": 1,
   "metadata": {},
   "outputs": [
    {
     "name": "stdout",
     "output_type": "stream",
     "text": [
      "cwd=/home/nyein/georgia_tech_masters/cs7637/cs7637-rag\n"
     ]
    }
   ],
   "source": [
    "import json\n",
    "import os\n",
    "\n",
    "# change cwd\n",
    "project_root = \"/home/nyein/georgia_tech_masters/cs7637/cs7637-rag\"\n",
    "os.chdir(project_root)\n",
    "cwd = os.getcwd()\n",
    "print(f\"cwd={cwd}\")"
   ]
  },
  {
   "cell_type": "code",
   "execution_count": 2,
   "metadata": {},
   "outputs": [
    {
     "data": {
      "text/plain": [
       "True"
      ]
     },
     "execution_count": 2,
     "metadata": {},
     "output_type": "execute_result"
    }
   ],
   "source": [
    "from dotenv import load_dotenv\n",
    "from pathlib import Path\n",
    "dotenv_path = Path('.env')\n",
    "load_dotenv(dotenv_path=dotenv_path)"
   ]
  },
  {
   "cell_type": "code",
   "execution_count": 3,
   "metadata": {},
   "outputs": [
    {
     "name": "stdout",
     "output_type": "stream",
     "text": [
      "Using personal key\n"
     ]
    }
   ],
   "source": [
    "def load_openai_keys(use_personal=False):\n",
    "    if use_personal:\n",
    "        print(f\"Using personal key\")\n",
    "        return os.getenv(\"OPENAI_API_KEY\")\n",
    "    print(\"Using chanwah's key\")\n",
    "    return os.getenv(\"chanwah_openai_api_key\")\n",
    "openai_key = load_openai_keys(True)\n",
    "os.environ[\"OPENAI_API_KEY\"] = openai_key"
   ]
  },
  {
   "cell_type": "code",
   "execution_count": 4,
   "metadata": {},
   "outputs": [
    {
     "name": "stderr",
     "output_type": "stream",
     "text": [
      "/home/nyein/.pyenv/versions/3.11.0/envs/exam/lib/python3.11/site-packages/tqdm/auto.py:21: TqdmWarning: IProgress not found. Please update jupyter and ipywidgets. See https://ipywidgets.readthedocs.io/en/stable/user_install.html\n",
      "  from .autonotebook import tqdm as notebook_tqdm\n"
     ]
    }
   ],
   "source": [
    "from app.lecture_slides_loader.slides_loader import LectureSlidesLoader"
   ]
  },
  {
   "cell_type": "code",
   "execution_count": 5,
   "metadata": {},
   "outputs": [],
   "source": [
    "from langchain_openai.embeddings import OpenAIEmbeddings\n",
    "embedding_manager = OpenAIEmbeddings(\n",
    "    model=\"text-embedding-3-small\"\n",
    ")"
   ]
  },
  {
   "cell_type": "code",
   "execution_count": 6,
   "metadata": {},
   "outputs": [],
   "source": [
    "slides_loader = LectureSlidesLoader()"
   ]
  },
  {
   "cell_type": "code",
   "execution_count": 7,
   "metadata": {},
   "outputs": [
    {
     "name": "stdout",
     "output_type": "stream",
     "text": [
      "Finished processing 01 - Introduction to KBAI.pptx\n",
      "Finished processing 02 - Introduction to CS7637.pptx\n",
      "Finished processing 03 - Semantic Networks.pptx\n",
      "Finished processing 04 - Generate and Test.pptx\n",
      "Finished processing 05 - Means-End Analysis.pptx\n",
      "Finished processing 06 - ProductionSystems.pptx\n",
      "Finished processing 07 - Frames.pptx\n",
      "Finished processing 08 - Learning By Recording Cases.pptx\n",
      "Finished processing 09 - Case-Based Reasoning.pptx\n",
      "Finished processing 10 - Incremental Concept Understanding.pptx\n",
      "Finished processing 11 - Classification.pptx\n",
      "Finished processing 12 - Logic.pptx\n"
     ]
    }
   ],
   "source": [
    "lecture_slides_base_path = \"lecture-slides\"\n",
    "lecture_slides_embeddings_base_path = \"lecture-slides-embeddings\"\n",
    "file_names = os.listdir(lecture_slides_base_path)\n",
    "file_names.sort()\n",
    "for file_name in file_names:\n",
    "    file_path = f\"{lecture_slides_base_path}/{file_name}\"\n",
    "    fname_without_ext = os.path.splitext(file_name)[0]\n",
    "    embeddings_base_path = f\"{lecture_slides_embeddings_base_path}/{fname_without_ext}\"\n",
    "    if not os.path.exists(embeddings_base_path):\n",
    "        os.makedirs(embeddings_base_path)\n",
    "\n",
    "    # convert to chunks\n",
    "    chunks = slides_loader.load_and_split_ppt(\n",
    "        file_path=file_path,\n",
    "        max_tokens=500,\n",
    "    )\n",
    "\n",
    "    # embed each chunk\n",
    "    embeddings_per_chunk = embedding_manager.embed_documents(\n",
    "        texts=[c.page_content for c in chunks]\n",
    "    )\n",
    "\n",
    "    # write embedding to disk\n",
    "    for i, embeddings in enumerate(embeddings_per_chunk):\n",
    "        embeddings_file_path = f\"{embeddings_base_path}/{i}.json\"\n",
    "        with open(embeddings_file_path, \"w\") as f:\n",
    "            out_file = {\n",
    "                \"text\": chunks[i].page_content,\n",
    "                \"metadata\": chunks[i].metadata,\n",
    "                \"embeddings\": embeddings,\n",
    "            }\n",
    "            json.dump(out_file, f, indent=4)\n",
    "    print(f\"Finished processing {file_name}\")"
   ]
  },
  {
   "cell_type": "code",
   "execution_count": null,
   "metadata": {},
   "outputs": [],
   "source": []
  }
 ],
 "metadata": {
  "kernelspec": {
   "display_name": "rag",
   "language": "python",
   "name": "python3"
  },
  "language_info": {
   "codemirror_mode": {
    "name": "ipython",
    "version": 3
   },
   "file_extension": ".py",
   "mimetype": "text/x-python",
   "name": "python",
   "nbconvert_exporter": "python",
   "pygments_lexer": "ipython3",
   "version": "3.11.0"
  }
 },
 "nbformat": 4,
 "nbformat_minor": 2
}
